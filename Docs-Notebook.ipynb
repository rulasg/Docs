{
 "cells": [
  {
   "cell_type": "markdown",
   "metadata": {},
   "source": [
    "# Docs Help documentation"
   ]
  },
  {
   "cell_type": "code",
   "execution_count": null,
   "metadata": {
    "dotnet_interactive": {
     "language": "pwsh"
    }
   },
   "outputs": [],
   "source": [
    "# Variable initialization for this notebook execution\n",
    "$rootTempFolder = Convert-Path -Path \"temp:\"\n",
    "$Rooted = Join-Path -Path $rootTempFolder -ChildPath \"docs-notebook-1\"\n",
    "$pathSplitchar = ($Env:OS -eq 'Windows_NT') ? ';' : ':'\n",
    "$modulesPath = \"/Users/rulasg/OneDrive/Tools/PsModules/Modules\""
   ]
  },
  {
   "cell_type": "markdown",
   "metadata": {},
   "source": [
    "## Load Docs module"
   ]
  },
  {
   "cell_type": "markdown",
   "metadata": {},
   "source": [
    "Check that `Docs` module is on the PSModulePath."
   ]
  },
  {
   "cell_type": "code",
   "execution_count": null,
   "metadata": {
    "dotnet_interactive": {
     "language": "pwsh"
    }
   },
   "outputs": [
    {
     "data": {
      "text/plain": [
       "/Users/rulasg/.nuget/packages/microsoft.dotnet-interactive/1.0.230903/tools/net5.0/any/Modules\n"
      ]
     },
     "output_type": "unknown"
    },
    {
     "data": {
      "text/plain": [
       "/Users/rulasg/.local/share/powershell/Modules\n"
      ]
     },
     "output_type": "unknown"
    },
    {
     "data": {
      "text/plain": [
       "/usr/local/share/powershell/Modules\n"
      ]
     },
     "output_type": "unknown"
    },
    {
     "data": {
      "text/plain": [
       "/Users/rulasg/.nuget/packages/microsoft.dotnet-interactive/1.0.230903/tools/net5.0/any/runtimes/unix/lib/net5.0/Modules\n"
      ]
     },
     "output_type": "unknown"
    },
    {
     "data": {
      "text/plain": [
       "/usr/local/microsoft/powershell/7/Modules\n"
      ]
     },
     "output_type": "unknown"
    },
    {
     "data": {
      "text/plain": [
       "/Users/rulasg/OneDrive/Tools/PsModules/PsScripts/Modules\n"
      ]
     },
     "output_type": "unknown"
    },
    {
     "data": {
      "text/plain": [
       "/Users/rulasg/OneDrive/Tools/PsModules/xModules\n"
      ]
     },
     "output_type": "unknown"
    },
    {
     "data": {
      "text/plain": [
       "/Users/rulasg/OneDrive/Tools/PsModules/Modules\n"
      ]
     },
     "output_type": "unknown"
    },
    {
     "data": {
      "text/plain": [
       "/Users/rulasg/OneDrive/Tools/PsModules/Modules\n"
      ]
     },
     "output_type": "unknown"
    },
    {
     "data": {
      "text/plain": [
       "/Users/rulasg/OneDrive/Tools/PsModules/Modules\n"
      ]
     },
     "output_type": "unknown"
    },
    {
     "data": {
      "text/plain": [
       "/Users/rulasg/OneDrive/Tools/PsModules/Modules\n"
      ]
     },
     "output_type": "unknown"
    },
    {
     "data": {
      "text/plain": [
       "/Users/rulasg/OneDrive/Tools/PsModules/Modules\n"
      ]
     },
     "output_type": "unknown"
    },
    {
     "data": {
      "text/plain": [
       "/Users/rulasg/OneDrive/Tools/PsModules/Modules\n"
      ]
     },
     "output_type": "unknown"
    },
    {
     "data": {
      "text/plain": [
       "/Users/rulasg/OneDrive/Tools/PsModules/Modules\n"
      ]
     },
     "output_type": "unknown"
    },
    {
     "data": {
      "text/plain": [
       "/Users/rulasg/OneDrive/Tools/PsModules/Modules\n"
      ]
     },
     "output_type": "unknown"
    }
   ],
   "source": [
    "$env:PSModulePath -split $pathSplitchar"
   ]
  },
  {
   "cell_type": "markdown",
   "metadata": {},
   "source": [
    "Add Docs module path to `$env:PSModulePath`"
   ]
  },
  {
   "cell_type": "code",
   "execution_count": null,
   "metadata": {
    "dotnet_interactive": {
     "language": "pwsh"
    }
   },
   "outputs": [],
   "source": [
    "if($env:PSModulePath -notcontains \"{0}{1}\" -f $pathSplitchar,$modulesPath){\n",
    "    $env:PSModulePath+=\"{0}{1}\" -f $pathSplitchar,$modulesPath\n",
    "}"
   ]
  },
  {
   "cell_type": "markdown",
   "metadata": {},
   "source": [
    "Check if the module is now in the available list"
   ]
  },
  {
   "cell_type": "code",
   "execution_count": null,
   "metadata": {
    "dotnet_interactive": {
     "language": "pwsh"
    }
   },
   "outputs": [
    {
     "data": {
      "text/plain": [
       "\n"
      ]
     },
     "output_type": "unknown"
    },
    {
     "data": {
      "text/plain": [
       "    Directory: /Users/rulasg/OneDrive/Tools/PsModules/Modules\n"
      ]
     },
     "output_type": "unknown"
    },
    {
     "data": {
      "text/plain": [
       "\n"
      ]
     },
     "output_type": "unknown"
    },
    {
     "data": {
      "text/plain": [
       "ModuleType Version    PreRelease Name                                PSEdition ExportedCommands\n"
      ]
     },
     "output_type": "unknown"
    },
    {
     "data": {
      "text/plain": [
       "---------- -------    ---------- ----                                --------- ----------------\n"
      ]
     },
     "output_type": "unknown"
    },
    {
     "data": {
      "text/plain": [
       "Script     0.1                   Docs                                Desk      {Set-StoreLocation,…\n"
      ]
     },
     "output_type": "unknown"
    },
    {
     "data": {
      "text/plain": [
       "\n"
      ]
     },
     "output_type": "unknown"
    }
   ],
   "source": [
    "Get-Module Docs -ListAvailable"
   ]
  },
  {
   "cell_type": "markdown",
   "metadata": {},
   "source": [
    "Import module for use. Use `Force` to reload the module and refresh changes."
   ]
  },
  {
   "cell_type": "code",
   "execution_count": null,
   "metadata": {
    "dotnet_interactive": {
     "language": "pwsh"
    }
   },
   "outputs": [
    {
     "data": {
      "text/plain": [
       "\u001b[36mLoading Docs ...\u001b[0m\n"
      ]
     },
     "output_type": "unknown"
    }
   ],
   "source": [
    "Import-Module -Name Docs -Force"
   ]
  },
  {
   "cell_type": "markdown",
   "metadata": {},
   "source": [
    "List commands of the module"
   ]
  },
  {
   "cell_type": "code",
   "execution_count": null,
   "metadata": {
    "dotnet_interactive": {
     "language": "pwsh"
    }
   },
   "outputs": [
    {
     "data": {
      "text/plain": [
       "\n"
      ]
     },
     "output_type": "unknown"
    },
    {
     "data": {
      "text/plain": [
       "CommandType     Name                                               Version    Source\n"
      ]
     },
     "output_type": "unknown"
    },
    {
     "data": {
      "text/plain": [
       "-----------     ----                                               -------    ------\n"
      ]
     },
     "output_type": "unknown"
    },
    {
     "data": {
      "text/plain": [
       "Function        Add-DocsStore                                      0.1        Docs\n"
      ]
     },
     "output_type": "unknown"
    },
    {
     "data": {
      "text/plain": [
       "Function        Find-DocsFile                                      0.1        Docs\n"
      ]
     },
     "output_type": "unknown"
    },
    {
     "data": {
      "text/plain": [
       "Function        Get-DocsFileName                                   0.1        Docs\n"
      ]
     },
     "output_type": "unknown"
    },
    {
     "data": {
      "text/plain": [
       "Function        Get-DocsFileNamePattern                            0.1        Docs\n"
      ]
     },
     "output_type": "unknown"
    },
    {
     "data": {
      "text/plain": [
       "Function        Get-DocsFileToMove                                 0.1        Docs\n"
      ]
     },
     "output_type": "unknown"
    },
    {
     "data": {
      "text/plain": [
       "Function        Get-DocsOwners                                     0.1        Docs\n"
      ]
     },
     "output_type": "unknown"
    },
    {
     "data": {
      "text/plain": [
       "Function        Get-DocsStores                                     0.1        Docs\n"
      ]
     },
     "output_type": "unknown"
    },
    {
     "data": {
      "text/plain": [
       "Function        Initialize-DocsStoresList                          0.1        Docs\n"
      ]
     },
     "output_type": "unknown"
    },
    {
     "data": {
      "text/plain": [
       "Function        Move-DocsFile                                      0.1        Docs\n"
      ]
     },
     "output_type": "unknown"
    },
    {
     "data": {
      "text/plain": [
       "Function        New-DocsStoresList                                 0.1        Docs\n"
      ]
     },
     "output_type": "unknown"
    },
    {
     "data": {
      "text/plain": [
       "Function        Set-DocsStoreLocation                              0.1        Docs\n"
      ]
     },
     "output_type": "unknown"
    },
    {
     "data": {
      "text/plain": [
       "Function        Test-DocsFileName                                  0.1        Docs\n"
      ]
     },
     "output_type": "unknown"
    },
    {
     "data": {
      "text/plain": [
       "\n"
      ]
     },
     "output_type": "unknown"
    }
   ],
   "source": [
    "Get-Command -Module docs"
   ]
  },
  {
   "cell_type": "markdown",
   "metadata": {
    "dotnet_interactive": {
     "language": "markdown"
    }
   },
   "source": [
    "## Commands"
   ]
  },
  {
   "cell_type": "markdown",
   "metadata": {},
   "source": [
    "### Initialize-DocsStoresList\n",
    "\n",
    "Initilize the Docs module."
   ]
  },
  {
   "cell_type": "code",
   "execution_count": null,
   "metadata": {
    "dotnet_interactive": {
     "language": "pwsh"
    }
   },
   "outputs": [],
   "source": [
    "Initialize-DocsStoresList"
   ]
  },
  {
   "cell_type": "markdown",
   "metadata": {},
   "source": [
    "### Add-DocsStore\n",
    "\n",
    "Adds Docs Store to the list of watched folders to move and find documents."
   ]
  },
  {
   "cell_type": "code",
   "execution_count": null,
   "metadata": {
    "dotnet_interactive": {
     "language": "pwsh"
    }
   },
   "outputs": [],
   "source": [
    "Add-DocsStore -Owner test -Path $Rooted "
   ]
  },
  {
   "cell_type": "markdown",
   "metadata": {},
   "source": [
    "### Get-DocsOwners \n",
    "\n",
    "Return the list of Owners registered."
   ]
  },
  {
   "cell_type": "code",
   "execution_count": null,
   "metadata": {
    "dotnet_interactive": {
     "language": "pwsh"
    }
   },
   "outputs": [
    {
     "data": {
      "text/plain": [
       "test\n"
      ]
     },
     "output_type": "unknown"
    }
   ],
   "source": [
    "Get-DocsOwners "
   ]
  },
  {
   "cell_type": "markdown",
   "metadata": {},
   "source": [
    "### Get-DocsStores"
   ]
  },
  {
   "cell_type": "markdown",
   "metadata": {},
   "source": [
    "Check the actual registered Stores"
   ]
  },
  {
   "cell_type": "code",
   "execution_count": null,
   "metadata": {
    "dotnet_interactive": {
     "language": "pwsh"
    }
   },
   "outputs": [
    {
     "data": {
      "text/plain": [
       "\n"
      ]
     },
     "output_type": "unknown"
    },
    {
     "data": {
      "text/plain": [
       "Owner Path                                                             IsRecursive Exist\n"
      ]
     },
     "output_type": "unknown"
    },
    {
     "data": {
      "text/plain": [
       "----- ----                                                             ----------- -----\n"
      ]
     },
     "output_type": "unknown"
    },
    {
     "data": {
      "text/plain": [
       "test  /var/folders/cq/vvkx58js091gwchv1pxfjr8w0000gn/T/docs-notebook-1       False  True\n"
      ]
     },
     "output_type": "unknown"
    },
    {
     "data": {
      "text/plain": [
       "\n"
      ]
     },
     "output_type": "unknown"
    }
   ],
   "source": [
    "Get-DocsStores"
   ]
  },
  {
   "cell_type": "markdown",
   "metadata": {},
   "source": [
    "Checks if store path exists. if not creates it so that it apears as `Exist` on output"
   ]
  },
  {
   "cell_type": "code",
   "execution_count": null,
   "metadata": {
    "dotnet_interactive": {
     "language": "pwsh"
    }
   },
   "outputs": [
    {
     "data": {
      "text/plain": [
       "True\n"
      ]
     },
     "output_type": "unknown"
    },
    {
     "data": {
      "text/plain": [
       "True\n"
      ]
     },
     "output_type": "unknown"
    }
   ],
   "source": [
    "$store = Get-DocsStores -Owner \"test\"\n",
    "$store.Path | Test-Path\n",
    "if  (!($store.Exist)){\n",
    "    New-Item -Path $Rooted -Type Directory -Force \n",
    "}\n",
    "$store.Path | Test-Path"
   ]
  },
  {
   "cell_type": "code",
   "execution_count": null,
   "metadata": {
    "dotnet_interactive": {
     "language": "pwsh"
    }
   },
   "outputs": [
    {
     "data": {
      "text/plain": [
       "\n"
      ]
     },
     "output_type": "unknown"
    },
    {
     "data": {
      "text/plain": [
       "Owner Path                                                             IsRecursive Exist\n"
      ]
     },
     "output_type": "unknown"
    },
    {
     "data": {
      "text/plain": [
       "----- ----                                                             ----------- -----\n"
      ]
     },
     "output_type": "unknown"
    },
    {
     "data": {
      "text/plain": [
       "test  /var/folders/cq/vvkx58js091gwchv1pxfjr8w0000gn/T/docs-notebook-1       False  True\n"
      ]
     },
     "output_type": "unknown"
    },
    {
     "data": {
      "text/plain": [
       "\n"
      ]
     },
     "output_type": "unknown"
    }
   ],
   "source": [
    "Get-DocsStores"
   ]
  },
  {
   "cell_type": "markdown",
   "metadata": {},
   "source": [
    "### Get-DocsFileName"
   ]
  },
  {
   "cell_type": "markdown",
   "metadata": {},
   "source": [
    "Create a file"
   ]
  },
  {
   "cell_type": "code",
   "execution_count": null,
   "metadata": {
    "dotnet_interactive": {
     "language": "pwsh"
    }
   },
   "outputs": [],
   "source": [
    "$filename = Get-DocsFileName -Target Testing -Description \"Test File\" -Owner test\n",
    "\"This content is fake\" | Out-File -FilePath $filename.Name()"
   ]
  },
  {
   "cell_type": "markdown",
   "metadata": {},
   "source": [
    "### Test-DocsFileName"
   ]
  },
  {
   "cell_type": "markdown",
   "metadata": {},
   "source": [
    "### Move-DocsFile"
   ]
  },
  {
   "cell_type": "markdown",
   "metadata": {},
   "source": [
    "Move file to store"
   ]
  },
  {
   "cell_type": "code",
   "execution_count": null,
   "metadata": {
    "dotnet_interactive": {
     "language": "pwsh"
    }
   },
   "outputs": [
    {
     "data": {
      "text/plain": [
       "\n"
      ]
     },
     "output_type": "unknown"
    },
    {
     "data": {
      "text/plain": [
       "FullName    : /var/folders/cq/vvkx58js091gwchv1pxfjr8w0000gn/T/docs-notebook-1/210617-test-Testing-\n"
      ]
     },
     "output_type": "unknown"
    },
    {
     "data": {
      "text/plain": [
       "              Test_File.pdf\n"
      ]
     },
     "output_type": "unknown"
    },
    {
     "data": {
      "text/plain": [
       "Name        : 210617-test-Testing-Test_File.pdf\n"
      ]
     },
     "output_type": "unknown"
    },
    {
     "data": {
      "text/plain": [
       "Owner       : test\n"
      ]
     },
     "output_type": "unknown"
    },
    {
     "data": {
      "text/plain": [
       "Destination : /var/folders/cq/vvkx58js091gwchv1pxfjr8w0000gn/T/docs-notebook-1\n"
      ]
     },
     "output_type": "unknown"
    },
    {
     "data": {
      "text/plain": [
       "Status      : ARE_EQUAL\n"
      ]
     },
     "output_type": "unknown"
    },
    {
     "data": {
      "text/plain": [
       "\n"
      ]
     },
     "output_type": "unknown"
    },
    {
     "data": {
      "text/plain": [
       "\n"
      ]
     },
     "output_type": "unknown"
    }
   ],
   "source": [
    "Move-DocsFile -Owner test "
   ]
  },
  {
   "cell_type": "markdown",
   "metadata": {},
   "source": [
    "### Find-DocsFile"
   ]
  },
  {
   "cell_type": "markdown",
   "metadata": {},
   "source": [
    "Find Docs in stores"
   ]
  },
  {
   "cell_type": "code",
   "execution_count": null,
   "metadata": {
    "dotnet_interactive": {
     "language": "pwsh"
    }
   },
   "outputs": [
    {
     "data": {
      "text/plain": [
       "\n"
      ]
     },
     "output_type": "unknown"
    },
    {
     "data": {
      "text/plain": [
       "    Directory: /var/folders/cq/vvkx58js091gwchv1pxfjr8w0000gn/T/docs-notebook-1\n"
      ]
     },
     "output_type": "unknown"
    },
    {
     "data": {
      "text/plain": [
       "\n"
      ]
     },
     "output_type": "unknown"
    },
    {
     "data": {
      "text/plain": [
       "Mode                 LastWriteTime         Length Name\n"
      ]
     },
     "output_type": "unknown"
    },
    {
     "data": {
      "text/plain": [
       "----                 -------------         ------ ----\n"
      ]
     },
     "output_type": "unknown"
    },
    {
     "data": {
      "text/plain": [
       "-----          06/17/2021    13:38             21 210617-test-Testing-Test_File.pdf\n"
      ]
     },
     "output_type": "unknown"
    },
    {
     "data": {
      "text/plain": [
       "\n"
      ]
     },
     "output_type": "unknown"
    }
   ],
   "source": [
    "Find-DocsFile -Owner Test"
   ]
  },
  {
   "cell_type": "markdown",
   "metadata": {},
   "source": [
    "### Set-DocsStoreLocation"
   ]
  },
  {
   "cell_type": "markdown",
   "metadata": {},
   "source": [
    "Set location to store path"
   ]
  },
  {
   "cell_type": "code",
   "execution_count": null,
   "metadata": {
    "dotnet_interactive": {
     "language": "pwsh"
    }
   },
   "outputs": [
    {
     "data": {
      "text/plain": [
       "\n"
      ]
     },
     "output_type": "unknown"
    },
    {
     "data": {
      "text/plain": [
       "    Directory: /var/folders/cq/vvkx58js091gwchv1pxfjr8w0000gn/T/docs-notebook-1\n"
      ]
     },
     "output_type": "unknown"
    },
    {
     "data": {
      "text/plain": [
       "\n"
      ]
     },
     "output_type": "unknown"
    },
    {
     "data": {
      "text/plain": [
       "Mode                 LastWriteTime         Length Name\n"
      ]
     },
     "output_type": "unknown"
    },
    {
     "data": {
      "text/plain": [
       "----                 -------------         ------ ----\n"
      ]
     },
     "output_type": "unknown"
    },
    {
     "data": {
      "text/plain": [
       "-----          06/17/2021    13:38             21 210617-test-Testing-Test_File.pdf\n"
      ]
     },
     "output_type": "unknown"
    },
    {
     "data": {
      "text/plain": [
       "\n"
      ]
     },
     "output_type": "unknown"
    }
   ],
   "source": [
    "Set-DocsStoreLocation -Owner test"
   ]
  }
 ],
 "metadata": {
  "kernelspec": {
   "display_name": ".NET (PowerShell)",
   "language": "PowerShell",
   "name": ".net-pwsh"
  },
  "language_info": {
   "name": "PowerShell"
  }
 },
 "nbformat": 4,
 "nbformat_minor": 2
}